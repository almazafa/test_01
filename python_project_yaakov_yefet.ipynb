{
  "nbformat": 4,
  "nbformat_minor": 0,
  "metadata": {
    "colab": {
      "provenance": [],
      "authorship_tag": "ABX9TyMIQ/kMLoJ+r4mlKMKpPasE",
      "include_colab_link": true
    },
    "kernelspec": {
      "name": "python3",
      "display_name": "Python 3"
    },
    "language_info": {
      "name": "python"
    }
  },
  "cells": [
    {
      "cell_type": "markdown",
      "metadata": {
        "id": "view-in-github",
        "colab_type": "text"
      },
      "source": [
        "<a href=\"https://colab.research.google.com/github/yakov-yefet/test_01/blob/main/python_project_yaakov_yefet.ipynb\" target=\"_parent\"><img src=\"https://colab.research.google.com/assets/colab-badge.svg\" alt=\"Open In Colab\"/></a>"
      ]
    },
    {
      "cell_type": "markdown",
      "source": [
        "**installtions**"
      ],
      "metadata": {
        "id": "efoKaG3lFa0x"
      }
    },
    {
      "cell_type": "code",
      "execution_count": 4,
      "metadata": {
        "colab": {
          "base_uri": "https://localhost:8080/"
        },
        "id": "57JCogEs2z_f",
        "outputId": "ff6fd7d5-9bf0-4995-b14a-33833c03619a"
      },
      "outputs": [
        {
          "output_type": "stream",
          "name": "stdout",
          "text": [
            "<Response [200]>\n",
            "{'coord': {'lon': -0.1257, 'lat': 51.5085}, 'weather': [{'id': 721, 'main': 'Haze', 'description': 'haze', 'icon': '50n'}], 'base': 'stations', 'main': {'temp': -1.19, 'feels_like': -3.18, 'temp_min': -2.19, 'temp_max': 0.2, 'pressure': 1001, 'humidity': 92}, 'visibility': 4400, 'wind': {'speed': 1.54, 'deg': 30}, 'clouds': {'all': 75}, 'dt': 1701327825, 'sys': {'type': 2, 'id': 268730, 'country': 'GB', 'sunrise': 1701330122, 'sunset': 1701359784}, 'timezone': 0, 'id': 2643743, 'name': 'London', 'cod': 200}\n",
            "Temperature in London: -1.19 Kelvin\n"
          ]
        }
      ],
      "source": [
        "!pip install requests\n",
        "\n",
        "# !pip list\n",
        "# num = input('give me an integer: ')\n",
        "\n"
      ]
    },
    {
      "cell_type": "code",
      "source": [],
      "metadata": {
        "id": "RT2ezj0if_3C"
      },
      "execution_count": null,
      "outputs": []
    },
    {
      "cell_type": "markdown",
      "source": [
        "**imports**"
      ],
      "metadata": {
        "id": "zQe9-pCBFwC6"
      }
    },
    {
      "cell_type": "code",
      "source": [
        "import requests\n",
        "import datetime\n",
        "import json"
      ],
      "metadata": {
        "id": "h8NSn-9gF1aV"
      },
      "execution_count": 15,
      "outputs": []
    },
    {
      "cell_type": "markdown",
      "source": [
        "**part 1**: Basic ARI call to *open weather*"
      ],
      "metadata": {
        "id": "7AR7Vm-jF9gF"
      }
    },
    {
      "cell_type": "code",
      "source": [
        "\n",
        "api_key = 'f55667cb75dd795d3f2454dabce5a616'\n",
        "base_url = \"http://api.openweathermap.org/data/2.5/weather?\"\n",
        "city_name = \"Jerusalem\"\n",
        "url = f\"{base_url}q={city_name}&appid={api_key}&units=metric\"\n",
        "\n",
        "response = requests.get(url)\n",
        "# print(response)\n",
        "weather_json= response.json()\n",
        "# print(weather_json)\n",
        "formatted_json = json.dumps(weather_json, indent=2)\n",
        "# print(formatted_json)\n",
        "if weather_json['cod'] == 200:\n",
        "    temperature = weather_json['main']['temp']\n",
        "    print(f\"Temperature in {city_name}: {temperature} Celsius\")\n",
        "else:\n",
        "    print(\"City not found or API request failed\")\n"
      ],
      "metadata": {
        "colab": {
          "base_uri": "https://localhost:8080/"
        },
        "id": "E5HjK8GRG_3y",
        "outputId": "14a93d02-7812-4987-8397-d4b2a6793b9b"
      },
      "execution_count": 11,
      "outputs": [
        {
          "output_type": "stream",
          "name": "stdout",
          "text": [
            "{\n",
            "  \"coord\": {\n",
            "    \"lon\": 35.2163,\n",
            "    \"lat\": 31.769\n",
            "  },\n",
            "  \"weather\": [\n",
            "    {\n",
            "      \"id\": 804,\n",
            "      \"main\": \"Clouds\",\n",
            "      \"description\": \"overcast clouds\",\n",
            "      \"icon\": \"04d\"\n",
            "    }\n",
            "  ],\n",
            "  \"base\": \"stations\",\n",
            "  \"main\": {\n",
            "    \"temp\": 18.13,\n",
            "    \"feels_like\": 17.54,\n",
            "    \"temp_min\": 12.29,\n",
            "    \"temp_max\": 18.17,\n",
            "    \"pressure\": 1015,\n",
            "    \"humidity\": 59\n",
            "  },\n",
            "  \"visibility\": 10000,\n",
            "  \"wind\": {\n",
            "    \"speed\": 0.75,\n",
            "    \"deg\": 52,\n",
            "    \"gust\": 0.92\n",
            "  },\n",
            "  \"clouds\": {\n",
            "    \"all\": 100\n",
            "  },\n",
            "  \"dt\": 1701329353,\n",
            "  \"sys\": {\n",
            "    \"type\": 2,\n",
            "    \"id\": 2004982,\n",
            "    \"country\": \"IL\",\n",
            "    \"sunrise\": 1701318011,\n",
            "    \"sunset\": 1701354926\n",
            "  },\n",
            "  \"timezone\": 7200,\n",
            "  \"id\": 281184,\n",
            "  \"name\": \"Jerusalem\",\n",
            "  \"cod\": 200\n",
            "}\n",
            "Temperature in Jerusalem: 18.13 Celsius\n"
          ]
        }
      ]
    },
    {
      "cell_type": "markdown",
      "source": [
        "### Stretch Goal Alpha - Display Current Date and Time at the location"
      ],
      "metadata": {
        "id": "RxAeY2U3Ja7-"
      }
    },
    {
      "cell_type": "code",
      "source": [
        "now = datetime.datetime.now()\n",
        "print(now)\n",
        "now_formatted = now.strftime(\"%d.%m.%Y\")\n",
        "print(now_formatted)"
      ],
      "metadata": {
        "colab": {
          "base_uri": "https://localhost:8080/"
        },
        "id": "SwFbIAlyHoyY",
        "outputId": "7b6e35c0-4d85-4848-ef58-795100d5f835"
      },
      "execution_count": 17,
      "outputs": [
        {
          "output_type": "stream",
          "name": "stdout",
          "text": [
            "2023-11-30 07:42:03.326615\n",
            "30.11.2023\n"
          ]
        }
      ]
    },
    {
      "cell_type": "code",
      "source": [],
      "metadata": {
        "id": "TmTdo1HjJsvm"
      },
      "execution_count": null,
      "outputs": []
    }
  ]
}